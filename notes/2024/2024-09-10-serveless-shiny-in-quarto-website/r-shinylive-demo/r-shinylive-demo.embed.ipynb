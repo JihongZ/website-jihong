{
  "cells": [
    {
      "cell_type": "markdown",
      "metadata": {},
      "source": [
        "# shinylive-demo\n",
        "\n",
        "Jihong Zhang\n",
        "<a href=\"https://orcid.org/0000-0003-2820-3734\"><img src=\"/images/ORCID-iD_icon_24x24.png\" alt=\"\"/></a>"
      ],
      "id": "f3d0f7e5-eb90-4046-aee2-3d28a75769b5"
    },
    {
      "cell_type": "code",
      "execution_count": null,
      "metadata": {
        "standalone": true,
        "viewerHeight": 600
      },
      "outputs": [],
      "source": [
        "#| standalone: true\n",
        "#| viewerHeight: 600\n",
        "#| eval: false\n",
        "library(shiny)\n",
        "library(bslib)\n",
        "\n",
        "# Define UI for app that draws a histogram ----\n",
        "ui <- page_sidebar(\n",
        "  sidebar = sidebar(open = \"open\",\n",
        "    numericInput(\"n\", \"Sample count\", 100),\n",
        "    checkboxInput(\"pause\", \"Pause\", FALSE),\n",
        "  ),\n",
        "  plotOutput(\"plot\", width=1100)\n",
        ")\n",
        "\n",
        "server <- function(input, output, session) {\n",
        "  data <- reactive({\n",
        "    input$resample\n",
        "    if (!isTRUE(input$pause)) {\n",
        "      invalidateLater(1000)\n",
        "    }\n",
        "    rnorm(input$n)\n",
        "  })\n",
        "  \n",
        "  output$plot <- renderPlot({\n",
        "    hist(data(),\n",
        "      breaks = 40,\n",
        "      xlim = c(-2, 2),\n",
        "      ylim = c(0, 1),\n",
        "      lty = \"blank\",\n",
        "      xlab = \"value\",\n",
        "      freq = FALSE,\n",
        "      main = \"\"\n",
        "    )\n",
        "    \n",
        "    x <- seq(from = -2, to = 2, length.out = 500)\n",
        "    y <- dnorm(x)\n",
        "    lines(x, y, lwd=1.5)\n",
        "    \n",
        "    lwd <- 5\n",
        "    abline(v=0, col=\"red\", lwd=lwd, lty=2)\n",
        "    abline(v=mean(data()), col=\"blue\", lwd=lwd, lty=1)\n",
        "\n",
        "    legend(legend = c(\"Normal\", \"Mean\", \"Sample mean\"),\n",
        "      col = c(\"black\", \"red\", \"blue\"),\n",
        "      lty = c(1, 2, 1),\n",
        "      lwd = c(1, lwd, lwd),\n",
        "      x = 1,\n",
        "      y = 0.9\n",
        "    )\n",
        "  }, res=140)\n",
        "}\n",
        "\n",
        "# Create Shiny app ----\n",
        "shinyApp(ui = ui, server = server)"
      ],
      "id": "9800ce5a-8f78-43d1-b1d7-e5ccf3366e6b"
    }
  ],
  "nbformat": 4,
  "nbformat_minor": 5,
  "metadata": {
    "kernelspec": {
      "display_name": "Python 3",
      "language": "python",
      "name": "python3"
    }
  }
}