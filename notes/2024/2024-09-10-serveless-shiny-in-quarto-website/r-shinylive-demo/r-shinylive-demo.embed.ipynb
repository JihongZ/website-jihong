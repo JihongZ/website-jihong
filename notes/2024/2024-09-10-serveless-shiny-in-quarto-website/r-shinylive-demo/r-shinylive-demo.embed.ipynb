{
  "cells": [
    {
      "cell_type": "markdown",
      "metadata": {},
      "source": [
        "# shinylive-demo\n",
        "\n",
        "Jihong Zhang\n",
        "<a href=\"https://orcid.org/0000-0003-2820-3734\"><img src=\"/images/ORCID-iD_icon_24x24.png\" alt=\"\"/></a>"
      ],
      "id": "f2e35204-fb89-4353-a2bf-086335f34a89"
    },
    {
      "cell_type": "code",
      "execution_count": null,
      "metadata": {
        "standalone": true,
        "viewerHeight": 600
      },
      "outputs": [],
      "source": [
        "#| standalone: true\n",
        "#| viewerHeight: 600\n",
        "#| eval: false\n",
        "library(shiny)\n",
        "library(bslib)\n",
        "\n",
        "# Define UI for app that draws a histogram ----\n",
        "ui <- page_sidebar(\n",
        "  sidebar = sidebar(open = \"open\",\n",
        "    numericInput(\"n\", \"Sample count\", 100),\n",
        "    checkboxInput(\"pause\", \"Pause\", FALSE),\n",
        "  ),\n",
        "  plotOutput(\"plot\", width=1100)\n",
        ")\n",
        "\n",
        "server <- function(input, output, session) {\n",
        "  data <- reactive({\n",
        "    input$resample\n",
        "    if (!isTRUE(input$pause)) {\n",
        "      invalidateLater(1000)\n",
        "    }\n",
        "    rnorm(input$n)\n",
        "  })\n",
        "  \n",
        "  output$plot <- renderPlot({\n",
        "    hist(data(),\n",
        "      breaks = 40,\n",
        "      xlim = c(-2, 2),\n",
        "      ylim = c(0, 1),\n",
        "      lty = \"blank\",\n",
        "      xlab = \"value\",\n",
        "      freq = FALSE,\n",
        "      main = \"\"\n",
        "    )\n",
        "    \n",
        "    x <- seq(from = -2, to = 2, length.out = 500)\n",
        "    y <- dnorm(x)\n",
        "    lines(x, y, lwd=1.5)\n",
        "    \n",
        "    lwd <- 5\n",
        "    abline(v=0, col=\"red\", lwd=lwd, lty=2)\n",
        "    abline(v=mean(data()), col=\"blue\", lwd=lwd, lty=1)\n",
        "\n",
        "    legend(legend = c(\"Normal\", \"Mean\", \"Sample mean\"),\n",
        "      col = c(\"black\", \"red\", \"blue\"),\n",
        "      lty = c(1, 2, 1),\n",
        "      lwd = c(1, lwd, lwd),\n",
        "      x = 1,\n",
        "      y = 0.9\n",
        "    )\n",
        "  }, res=140)\n",
        "}\n",
        "\n",
        "# Create Shiny app ----\n",
        "shinyApp(ui = ui, server = server)"
      ],
      "id": "515f6ec6-0e88-478d-ad2e-53811db87a5f"
    }
  ],
  "nbformat": 4,
  "nbformat_minor": 5,
  "metadata": {
    "kernelspec": {
      "display_name": "Python 3",
      "language": "python",
      "name": "python3"
    }
  }
}